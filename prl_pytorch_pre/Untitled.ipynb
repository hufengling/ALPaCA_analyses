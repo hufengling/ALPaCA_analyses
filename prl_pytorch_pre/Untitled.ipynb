{
 "cells": [
  {
   "cell_type": "code",
   "execution_count": 1,
   "id": "385dd547-4e19-4cbe-a15d-6d789b35722c",
   "metadata": {
    "jupyter": {
     "source_hidden": true
    },
    "tags": []
   },
   "outputs": [
    {
     "name": "stdout",
     "output_type": "stream",
     "text": [
      "cpu\n"
     ]
    }
   ],
   "source": [
    "#bsub -q taki_normal -J \"make_predictions[1-970]\" -o ~/Documents/prl/stdout/make_predictions.txt bash -c \"python /home/fengling/Documents/prl/prl_pytorch/_07_make_predictions_individual.py\"\n",
    "#bsub -q lpcgpu -gpu \"num=1\" -n 1 -J \"make_predictions[1-970]\" -o ~/Documents/prl/stdout/make_predictions_nograd.txt bash -c \"python /home/fengling/Documents/prl/prl_pytorch/_07_make_predictions_individual.py\"\n",
    "import os\n",
    "import torch\n",
    "import torch.nn as nn\n",
    "import torchvision as tv\n",
    "import torchio as tio\n",
    "import numpy as np\n",
    "import random\n",
    "import pandas as pd\n",
    "\n",
    "import _01_dataloader_individual_no_frangi as prl_dl\n",
    "import _02_autoencoder_no_frangi as prl_ae\n",
    "import _05_predictor as prl_pred\n",
    "\n",
    "#importlib.reload(prl_ae)\n",
    "#importlib.reload(prl_pred)\n",
    "\n",
    "device = torch.device(\"cuda\" if torch.cuda.is_available() else \"cpu\")\n",
    "print(device)"
   ]
  },
  {
   "cell_type": "code",
   "execution_count": 7,
   "id": "45cbfb7f-93a2-4f38-8911-ad99f0413ba3",
   "metadata": {},
   "outputs": [
    {
     "name": "stdout",
     "output_type": "stream",
     "text": [
      "1\n"
     ]
    },
    {
     "ename": "RuntimeError",
     "evalue": "Error(s) in loading state_dict for Predictor3D:\n\tsize mismatch for predictor.2.weight: copying a param with shape torch.Size([512, 2048]) from checkpoint, the shape in current model is torch.Size([1024, 2048]).\n\tsize mismatch for predictor.2.bias: copying a param with shape torch.Size([512]) from checkpoint, the shape in current model is torch.Size([1024]).\n\tsize mismatch for predictor.5.weight: copying a param with shape torch.Size([128, 512]) from checkpoint, the shape in current model is torch.Size([512, 1024]).\n\tsize mismatch for predictor.5.bias: copying a param with shape torch.Size([128]) from checkpoint, the shape in current model is torch.Size([512]).\n\tsize mismatch for lesion_predictor.0.weight: copying a param with shape torch.Size([1, 128]) from checkpoint, the shape in current model is torch.Size([1, 512]).\n\tsize mismatch for subtype_predictor.0.weight: copying a param with shape torch.Size([2, 129]) from checkpoint, the shape in current model is torch.Size([2, 513]).",
     "output_type": "error",
     "traceback": [
      "\u001b[0;31m---------------------------------------------------------------------------\u001b[0m",
      "\u001b[0;31mRuntimeError\u001b[0m                              Traceback (most recent call last)",
      "\u001b[0;32m/scratch/ipykernel_12825/2908413778.py\u001b[0m in \u001b[0;36m<module>\u001b[0;34m\u001b[0m\n\u001b[1;32m     13\u001b[0m \u001b[0;34m\u001b[0m\u001b[0m\n\u001b[1;32m     14\u001b[0m     \u001b[0;31m# Load the state_dict from the checkpoint\u001b[0m\u001b[0;34m\u001b[0m\u001b[0;34m\u001b[0m\u001b[0m\n\u001b[0;32m---> 15\u001b[0;31m     prl_predictor.load_state_dict(torch.load(\"/home/fengling/Documents/prl/prl_pytorch/models/blackout_background_1012/prl_predictor_05_\" + str(prl_dl.cv_index) + \".pt\", \n\u001b[0m\u001b[1;32m     16\u001b[0m                                                map_location=torch.device('cpu')))\n\u001b[1;32m     17\u001b[0m     \u001b[0mprl_predictor\u001b[0m\u001b[0;34m.\u001b[0m\u001b[0meval\u001b[0m\u001b[0;34m(\u001b[0m\u001b[0;34m)\u001b[0m\u001b[0;34m\u001b[0m\u001b[0;34m\u001b[0m\u001b[0m\n",
      "\u001b[0;32m~/software/pkg/mamba/envs/nnbatch-env/lib/python3.9/site-packages/torch/nn/modules/module.py\u001b[0m in \u001b[0;36mload_state_dict\u001b[0;34m(self, state_dict, strict)\u001b[0m\n\u001b[1;32m   1480\u001b[0m \u001b[0;34m\u001b[0m\u001b[0m\n\u001b[1;32m   1481\u001b[0m         \u001b[0;32mif\u001b[0m \u001b[0mlen\u001b[0m\u001b[0;34m(\u001b[0m\u001b[0merror_msgs\u001b[0m\u001b[0;34m)\u001b[0m \u001b[0;34m>\u001b[0m \u001b[0;36m0\u001b[0m\u001b[0;34m:\u001b[0m\u001b[0;34m\u001b[0m\u001b[0;34m\u001b[0m\u001b[0m\n\u001b[0;32m-> 1482\u001b[0;31m             raise RuntimeError('Error(s) in loading state_dict for {}:\\n\\t{}'.format(\n\u001b[0m\u001b[1;32m   1483\u001b[0m                                self.__class__.__name__, \"\\n\\t\".join(error_msgs)))\n\u001b[1;32m   1484\u001b[0m         \u001b[0;32mreturn\u001b[0m \u001b[0m_IncompatibleKeys\u001b[0m\u001b[0;34m(\u001b[0m\u001b[0mmissing_keys\u001b[0m\u001b[0;34m,\u001b[0m \u001b[0munexpected_keys\u001b[0m\u001b[0;34m)\u001b[0m\u001b[0;34m\u001b[0m\u001b[0;34m\u001b[0m\u001b[0m\n",
      "\u001b[0;31mRuntimeError\u001b[0m: Error(s) in loading state_dict for Predictor3D:\n\tsize mismatch for predictor.2.weight: copying a param with shape torch.Size([512, 2048]) from checkpoint, the shape in current model is torch.Size([1024, 2048]).\n\tsize mismatch for predictor.2.bias: copying a param with shape torch.Size([512]) from checkpoint, the shape in current model is torch.Size([1024]).\n\tsize mismatch for predictor.5.weight: copying a param with shape torch.Size([128, 512]) from checkpoint, the shape in current model is torch.Size([512, 1024]).\n\tsize mismatch for predictor.5.bias: copying a param with shape torch.Size([128]) from checkpoint, the shape in current model is torch.Size([512]).\n\tsize mismatch for lesion_predictor.0.weight: copying a param with shape torch.Size([1, 128]) from checkpoint, the shape in current model is torch.Size([1, 512]).\n\tsize mismatch for subtype_predictor.0.weight: copying a param with shape torch.Size([2, 129]) from checkpoint, the shape in current model is torch.Size([2, 513])."
     ]
    }
   ],
   "source": [
    "for i in range(1, 11):\n",
    "    print(i)\n",
    "    prl_autoencoder_joint = prl_ae.Autoencoder3D()\n",
    "    prl_predictor = prl_pred.Predictor3D()\n",
    "\n",
    "    keys = [\"t1\", \"flair\", \"epi\", \"phase\"]\n",
    "\n",
    "    # Load the state_dict from the checkpoint\n",
    "    prl_autoencoder_joint.load_state_dict(torch.load(\"/home/fengling/Documents/prl/prl_pytorch/models/blackout_background_1012/prl_joint_05_\" + str(prl_dl.cv_index) + \".pt\", \n",
    "                                               map_location=torch.device('cpu')))\n",
    "    prl_autoencoder_joint.eval()\n",
    "    prl_autoencoder_joint.to(device)\n",
    "\n",
    "    # Load the state_dict from the checkpoint\n",
    "    prl_predictor.load_state_dict(torch.load(\"/home/fengling/Documents/prl/prl_pytorch/models/blackout_background_1012/prl_predictor_05_\" + str(prl_dl.cv_index) + \".pt\", \n",
    "                                               map_location=torch.device('cpu')))\n",
    "    prl_predictor.eval()\n",
    "    prl_predictor.to(device)\n",
    "    \n",
    "    autoencoder_trace = torch.jit.trace(prl_autoencoder_joint, torch.randn([1, 4, 24, 24, 24]).detach())\n",
    "    predictor_trace = torch.jit.trace(prl_predictor, torch.randn([1, 2048, 3, 3, 3]).detach())\n",
    "    \n",
    "    #torch.jit.save(autoencoder_trace, \"./trace_models/autoencoder_\" + str(i) + \".pt\")\n",
    "    #torch.jit.save(predictor_trace, \"./trace_models/predictor_\" + str(i) + \".pt\")"
   ]
  },
  {
   "cell_type": "code",
   "execution_count": null,
   "id": "d5d44874-a633-4e86-97ad-65c230d2277a",
   "metadata": {},
   "outputs": [],
   "source": []
  }
 ],
 "metadata": {
  "kernelspec": {
   "display_name": "nnbatch-env",
   "language": "python",
   "name": "nnbatch-env"
  },
  "language_info": {
   "codemirror_mode": {
    "name": "ipython",
    "version": 3
   },
   "file_extension": ".py",
   "mimetype": "text/x-python",
   "name": "python",
   "nbconvert_exporter": "python",
   "pygments_lexer": "ipython3",
   "version": "3.9.7"
  }
 },
 "nbformat": 4,
 "nbformat_minor": 5
}
