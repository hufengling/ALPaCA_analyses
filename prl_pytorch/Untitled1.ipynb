{
 "cells": [
  {
   "cell_type": "code",
   "execution_count": 24,
   "id": "9571ea28-f8a5-4134-abc4-fb26556e3474",
   "metadata": {
    "tags": []
   },
   "outputs": [
    {
     "data": {
      "text/plain": [
       "[0]"
      ]
     },
     "execution_count": 24,
     "metadata": {},
     "output_type": "execute_result"
    }
   ],
   "source": [
    "import random\n",
    "\n",
    "random.sample(range(0, 2), 1)"
   ]
  }
 ],
 "metadata": {
  "kernelspec": {
   "display_name": "nnbatch-env",
   "language": "python",
   "name": "nnbatch-env"
  },
  "language_info": {
   "codemirror_mode": {
    "name": "ipython",
    "version": 3
   },
   "file_extension": ".py",
   "mimetype": "text/x-python",
   "name": "python",
   "nbconvert_exporter": "python",
   "pygments_lexer": "ipython3",
   "version": "3.9.7"
  }
 },
 "nbformat": 4,
 "nbformat_minor": 5
}
