{
 "cells": [
  {
   "cell_type": "code",
   "execution_count": null,
   "id": "e49b93c6-2b12-4365-af78-5b04fdfa217c",
   "metadata": {},
   "outputs": [
    {
     "data": {
      "text/plain": [
       "<module '_04_predictor' from '/home/fengling/Documents/prl/prl_pytorch/_04_predictor.py'>"
      ]
     },
     "execution_count": 99,
     "metadata": {},
     "output_type": "execute_result"
    }
   ],
   "source": [
    "import os\n",
    "from random import randrange\n",
    "import torch\n",
    "import torch.nn as nn\n",
    "import torchvision as tv\n",
    "import torchio as tio\n",
    "import _01_dataloader as prl_dl\n",
    "import _02_autoencoder as prl_ae\n",
    "import _04_predictor as prl_pred\n",
    "\n",
    "import importlib\n",
    "importlib.reload(prl_dl)\n",
    "importlib.reload(prl_ae)\n",
    "importlib.reload(prl_pred)"
   ]
  },
  {
   "cell_type": "code",
   "execution_count": null,
   "id": "9cc49de9-f914-424d-8ca5-22108c7a7ca1",
   "metadata": {
    "tags": []
   },
   "outputs": [],
   "source": [
    "def isolate_lesion(patches_batch):\n",
    "    lesion_mask_tensor = patches_batch[\"lesion_mask\"][\"data\"]\n",
    "    mask_tensor = torch.zeros_like(lesion_mask_tensor)\n",
    "    for i in range(lesion_mask_tensor.size()[0]):\n",
    "        tmp_lesion_mask = lesion_mask_tensor[i, :, :, :, :].clone()\n",
    "        lesion_ids = tmp_lesion_mask.unique()\n",
    "\n",
    "        if (len(lesion_ids) > 1): # lesion_id always has unique value of 0. Only need to blackout lesion if there are two lesions.\n",
    "            id_to_keep = lesion_ids[randrange(len(lesion_ids) - 1) + 1]\n",
    "            mask_tensor[i, :, :, :, :] = (tmp_lesion_mask == 0) + (tmp_lesion_mask == 10)\n",
    "        else:\n",
    "            mask_tensor[i, :, :, :, :] = torch.ones_like(tmp_lesion_mask)\n",
    "    return(mask_tensor.repeat(1, 4, 1, 1, 1))"
   ]
  },
  {
   "cell_type": "code",
   "execution_count": null,
   "id": "5fc58a4e-8ad1-4bb0-8f60-f0557cab5204",
   "metadata": {
    "tags": []
   },
   "outputs": [],
   "source": [
    "def get_lesion_type(patches_batch, isolation_mask_tensor):\n",
    "    lesion_type_tensor = patches_batch[\"lesion_type\"][\"data\"][:, 0, :, :, :]\n",
    "    isolation_mask = isolation_mask_tensor[:, 0, :, :, :] # Originally is a [batch, 4, 24, 24, 24] tensor\n",
    "    isolated_lesion_type = lesion_type_tensor * isolation_mask\n",
    "\n",
    "    batch_size = isolated_lesion_type.size()[0]\n",
    "    target_tensor = torch.zeros(batch_size, 3)\n",
    "    weight_tensor = torch.zeros(batch_size, 3)\n",
    "\n",
    "    for i in range(batch_size):\n",
    "        tmp_unique = isolated_lesion_type[i, :, :, :].unique()\n",
    "        tmp_unique = int(tmp_unique[len(tmp_unique) - 1].item())\n",
    "        target_tensor[i, :] = process_lesion_type(tmp_unique)[0]\n",
    "        weight_tensor[i, :] = process_lesion_type(tmp_unique)[1]\n",
    "\n",
    "    return([target_tensor, weight_tensor])"
   ]
  },
  {
   "cell_type": "code",
   "execution_count": null,
   "id": "63349ae3-7668-4a3d-bc47-3f47f7ffbafb",
   "metadata": {},
   "outputs": [],
   "source": [
    "def process_lesion_type(lesion_id): # Return tensor of [is_lesion, is_PRL, is_CVS]\n",
    "    target = torch.zeros(3)\n",
    "    weight = torch.ones(3)\n",
    "    if (lesion_id == 0):\n",
    "        return([target, weight]) # Just return the tensor of 0s\n",
    "\n",
    "    digits = [int(x) for x in str(lesion_id)] \n",
    "    # First digit is always 1 for computational convenience\n",
    "    \n",
    "    if digits[1] == 1: # non-PRL lesion\n",
    "        target[0] = 1\n",
    "\n",
    "    if digits[1] == 2: # PRL lesion\n",
    "        target[0] = 1\n",
    "        target[1] = 1\n",
    "\n",
    "    if digits[2] == 1: # non-CVS lesion\n",
    "        target[0] = 1\n",
    "\n",
    "    if digits[2] == 2: # possible CVS lesion (TODO try more sophisticated processing)\n",
    "        target[0] = 1\n",
    "\n",
    "    if digits[2] == 3:\n",
    "        target[0] = 1\n",
    "        target[2] = 1\n",
    "        \n",
    "    if digits[2] == 2 or digits[2] == 9: # possible CVS or no CVS data available for this subject\n",
    "        weight = torch.tensor([1, 1, 0]) # Don't count errors in CVS column against the network\n",
    "\n",
    "    return([target, weight])"
   ]
  },
  {
   "cell_type": "code",
   "execution_count": null,
   "id": "ebb569ed-43ef-458b-81a2-9c86cae5968e",
   "metadata": {
    "tags": []
   },
   "outputs": [
    {
     "name": "stdout",
     "output_type": "stream",
     "text": [
      "cpu\n"
     ]
    },
    {
     "data": {
      "text/plain": [
       "Autoencoder3D(\n",
       "  (encoder): Sequential(\n",
       "    (0): Conv3d(4, 16, kernel_size=(7, 7, 7), stride=(1, 1, 1), padding=(3, 3, 3))\n",
       "    (1): BatchNorm3d(16, eps=1e-05, momentum=0.1, affine=True, track_running_stats=True)\n",
       "    (2): ReLU()\n",
       "    (3): Conv3d(16, 32, kernel_size=(5, 5, 5), stride=(1, 1, 1), padding=(2, 2, 2))\n",
       "    (4): BatchNorm3d(32, eps=1e-05, momentum=0.1, affine=True, track_running_stats=True)\n",
       "    (5): ReLU()\n",
       "    (6): Conv3d(32, 64, kernel_size=(3, 3, 3), stride=(1, 1, 1), padding=(1, 1, 1))\n",
       "    (7): MaxPool3d(kernel_size=2, stride=2, padding=0, dilation=1, ceil_mode=False)\n",
       "    (8): BatchNorm3d(64, eps=1e-05, momentum=0.1, affine=True, track_running_stats=True)\n",
       "    (9): ReLU()\n",
       "    (10): Conv3d(64, 256, kernel_size=(3, 3, 3), stride=(1, 1, 1), padding=(1, 1, 1))\n",
       "    (11): MaxPool3d(kernel_size=2, stride=2, padding=0, dilation=1, ceil_mode=False)\n",
       "    (12): BatchNorm3d(256, eps=1e-05, momentum=0.1, affine=True, track_running_stats=True)\n",
       "    (13): ReLU()\n",
       "    (14): Conv3d(256, 1024, kernel_size=(3, 3, 3), stride=(1, 1, 1), padding=(1, 1, 1))\n",
       "    (15): MaxPool3d(kernel_size=2, stride=2, padding=0, dilation=1, ceil_mode=False)\n",
       "    (16): BatchNorm3d(1024, eps=1e-05, momentum=0.1, affine=True, track_running_stats=True)\n",
       "    (17): ReLU()\n",
       "  )\n",
       "  (decoder): Sequential(\n",
       "    (0): Upsample(scale_factor=2.0, mode=nearest)\n",
       "    (1): ConvTranspose3d(1024, 256, kernel_size=(3, 3, 3), stride=(1, 1, 1), padding=(1, 1, 1))\n",
       "    (2): BatchNorm3d(256, eps=1e-05, momentum=0.1, affine=True, track_running_stats=True)\n",
       "    (3): ReLU()\n",
       "    (4): Upsample(scale_factor=2.0, mode=nearest)\n",
       "    (5): ConvTranspose3d(256, 64, kernel_size=(3, 3, 3), stride=(1, 1, 1), padding=(1, 1, 1))\n",
       "    (6): BatchNorm3d(64, eps=1e-05, momentum=0.1, affine=True, track_running_stats=True)\n",
       "    (7): ReLU()\n",
       "    (8): Upsample(scale_factor=2.0, mode=nearest)\n",
       "    (9): ConvTranspose3d(64, 16, kernel_size=(3, 3, 3), stride=(1, 1, 1), padding=(1, 1, 1))\n",
       "    (10): BatchNorm3d(16, eps=1e-05, momentum=0.1, affine=True, track_running_stats=True)\n",
       "    (11): ReLU()\n",
       "    (12): ConvTranspose3d(16, 8, kernel_size=(3, 3, 3), stride=(1, 1, 1), padding=(1, 1, 1))\n",
       "    (13): ReLU()\n",
       "    (14): ConvTranspose3d(8, 4, kernel_size=(3, 3, 3), stride=(1, 1, 1), padding=(1, 1, 1))\n",
       "  )\n",
       ")"
      ]
     },
     "execution_count": 104,
     "metadata": {},
     "output_type": "execute_result"
    }
   ],
   "source": [
    "device = torch.device(\"cuda\" if torch.cuda.is_available() else \"cpu\")\n",
    "print(device)\n",
    "\n",
    "prl_autoencoder = prl_ae.Autoencoder3D()\n",
    "prl_autoencoder = prl_autoencoder.to(device)\n",
    "\n",
    "model_path = \"prl_autoencoder_0703.pt\"\n",
    "\n",
    "# Load the saved model\n",
    "checkpoint = torch.load(model_path, map_location=torch.device('cpu'))\n",
    "\n",
    "# Load the state_dict from the checkpoint\n",
    "prl_autoencoder.load_state_dict(checkpoint)\n",
    "\n",
    "# Set the model to evaluation mode\n",
    "prl_autoencoder.eval()"
   ]
  },
  {
   "cell_type": "code",
   "execution_count": null,
   "id": "56597911-c8c1-425e-836c-a6a265944fb5",
   "metadata": {},
   "outputs": [],
   "source": [
    "prl_predictor = prl_pred.Predictor3D()\n",
    "prl_predictor = prl_predictor.to(device)"
   ]
  },
  {
   "cell_type": "code",
   "execution_count": null,
   "id": "801bb2f1-2fae-4a16-a1f3-edfc24b8f177",
   "metadata": {},
   "outputs": [],
   "source": [
    "joint_optimizer = torch.optim.Adam(list(prl_autoencoder.encoder.parameters()) + \n",
    "                                   list(prl_predictor.parameters()), \n",
    "                                   lr=0.001)"
   ]
  },
  {
   "cell_type": "code",
   "execution_count": null,
   "id": "ab57f2f6-efa1-4e20-b635-93fcb91612c4",
   "metadata": {
    "tags": []
   },
   "outputs": [],
   "source": [
    "num_epochs = 1\n",
    "keys = [\"t1\", \"flair\", \"epi\", \"phase\"]\n",
    "for epoch_index in range(num_epochs):\n",
    "    epoch_loss = 0\n",
    "        \n",
    "    for patches_batch in prl_dl.patches_loader:\n",
    "        joint_optimizer.zero_grad()\n",
    "        isolation_mask_tensor = isolate_lesion(patches_batch)\n",
    "        target_tensor, weight_tensor = get_lesion_type(patches_batch, isolation_mask_tensor)\n",
    "        input_tensor = torch.cat([patches_batch.get(key)[\"data\"] for key in keys], dim=1) * isolation_mask_tensor\n",
    "        input_tensor = input_tensor.to(device)\n",
    "        encoded_tensor = prl_autoencoder.get_latent(input_tensor)\n",
    "        output_tensor = prl_predictor(encoded_tensor)\n",
    "        loss = nn.BCELoss()(output_tensor * weight_tensor, target_tensor * weight_tensor)\n",
    "        loss.backward()\n",
    "        joint_optimizer.step()\n",
    "        epoch_loss += float(loss)\n",
    "    print(\"Batch \" + str(epoch_index) + \": Loss = \" + str(loss)) "
   ]
  },
  {
   "cell_type": "code",
   "execution_count": null,
   "id": "e7015470-96c9-40cd-863d-09131e84cdc4",
   "metadata": {},
   "outputs": [],
   "source": [
    "torch.save(prl_autoencoder.state_dict(), \"prl_autoencoder_0625.pt\")"
   ]
  }
 ],
 "metadata": {
  "kernelspec": {
   "display_name": "Python 3 (ipykernel)",
   "language": "python",
   "name": "python3"
  },
  "language_info": {
   "codemirror_mode": {
    "name": "ipython",
    "version": 3
   },
   "file_extension": ".py",
   "mimetype": "text/x-python",
   "name": "python",
   "nbconvert_exporter": "python",
   "pygments_lexer": "ipython3",
   "version": "3.10.5"
  }
 },
 "nbformat": 4,
 "nbformat_minor": 5
}
