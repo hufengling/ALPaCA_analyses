{
 "cells": [
  {
   "cell_type": "code",
   "execution_count": 1,
   "id": "5276dcb2-b490-4ac6-a174-5b014cc0ce08",
   "metadata": {},
   "outputs": [],
   "source": [
    "import os\n",
    "import pandas as pd\n",
    "import numpy as np\n",
    "import random"
   ]
  },
  {
   "cell_type": "code",
   "execution_count": 11,
   "id": "67d8c5b8-2d99-4ded-a30f-90aa8c66e562",
   "metadata": {},
   "outputs": [],
   "source": [
    "random.seed(5)\n",
    "images_dir = \"/home/fengling/Documents/prl/data/processed\"\n",
    "subjects = os.listdir(images_dir)\n",
    "random.shuffle(subjects)"
   ]
  },
  {
   "cell_type": "code",
   "execution_count": 27,
   "id": "504d7813-a777-45c5-ad64-d3fac65b1ee2",
   "metadata": {},
   "outputs": [],
   "source": [
    "cv = 10\n",
    "cv_split = np.array_split(range(len(subjects)), cv)\n",
    "cv_index = [[i] * len(cv_split[i]) for i in range(len(cv_split))]\n",
    "cv_index = [item for sublist in cv_index for item in sublist]"
   ]
  },
  {
   "cell_type": "code",
   "execution_count": 29,
   "id": "41de4e00-2f6b-43f2-848d-145fea550f06",
   "metadata": {},
   "outputs": [
    {
     "data": {
      "text/plain": [
       "97"
      ]
     },
     "execution_count": 29,
     "metadata": {},
     "output_type": "execute_result"
    }
   ],
   "source": [
    "len(cv_index)"
   ]
  },
  {
   "cell_type": "code",
   "execution_count": 32,
   "id": "96f77fce-64b5-4f94-84de-c81b6873aba2",
   "metadata": {},
   "outputs": [],
   "source": [
    "cv_df = pd.DataFrame({\"subject_id\": subjects, \"cv_index\": cv_index})"
   ]
  },
  {
   "cell_type": "code",
   "execution_count": 33,
   "id": "7bd18b8d-8d38-4f76-80a1-df14bb068804",
   "metadata": {},
   "outputs": [],
   "source": [
    "cv_df.to_csv(\"data/cv_df.csv\")"
   ]
  }
 ],
 "metadata": {
  "kernelspec": {
   "display_name": "Python 3 (ipykernel)",
   "language": "python",
   "name": "python3"
  },
  "language_info": {
   "codemirror_mode": {
    "name": "ipython",
    "version": 3
   },
   "file_extension": ".py",
   "mimetype": "text/x-python",
   "name": "python",
   "nbconvert_exporter": "python",
   "pygments_lexer": "ipython3",
   "version": "3.9.7"
  }
 },
 "nbformat": 4,
 "nbformat_minor": 5
}
